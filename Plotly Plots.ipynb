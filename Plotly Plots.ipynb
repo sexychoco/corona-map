{
 "cells": [
  {
   "cell_type": "code",
   "execution_count": 10,
   "id": "92de7e35",
   "metadata": {},
   "outputs": [
    {
     "data": {
      "application/vnd.plotly.v1+json": {
       "config": {
        "plotlyServerURL": "https://plot.ly"
       },
       "data": [
        {
         "geo": "geo",
         "hovertemplate": "<b>%{hovertext}</b><br><br>Country_Region=%{location}<br>Confirmed=%{marker.color}<extra></extra>",
         "hovertext": [
          "US",
          "Brazil",
          "India",
          "Russia",
          "South Africa",
          "Mexico",
          "Peru",
          "Colombia",
          "Chile",
          "Iran",
          "Spain",
          "United Kingdom",
          "Saudi Arabia",
          "Pakistan",
          "Argentina",
          "Bangladesh",
          "Italy",
          "Turkey",
          "France",
          "Germany",
          "Iraq",
          "Philippines",
          "Indonesia",
          "Canada",
          "Qatar",
          "Kazakhstan",
          "Ecuador",
          "Egypt",
          "Bolivia",
          "China",
          "Israel",
          "Ukraine",
          "Sweden",
          "Oman",
          "Dominican Republic",
          "Panama",
          "Belgium",
          "Kuwait",
          "Belarus",
          "Romania",
          "United Arab Emirates",
          "Netherlands",
          "Guatemala",
          "Singapore",
          "Poland",
          "Portugal",
          "Japan",
          "Honduras",
          "Nigeria",
          "Bahrain",
          "Ghana",
          "Armenia",
          "Kyrgyzstan",
          "Afghanistan",
          "Switzerland",
          "Algeria",
          "Morocco",
          "Azerbaijan",
          "Uzbekistan",
          "Venezuela",
          "Serbia",
          "Moldova",
          "Kenya",
          "Ireland",
          "Ethiopia",
          "Costa Rica",
          "Nepal",
          "Austria",
          "Australia",
          "El Salvador",
          "Czechia",
          "Cameroon",
          "Cote d'Ivoire",
          "Denmark",
          "West Bank and Gaza",
          "Bosnia and Herzegovina",
          "Korea, South",
          "Bulgaria",
          "Madagascar",
          "North Macedonia",
          "Sudan",
          "Senegal",
          "Kosovo",
          "Norway",
          "Congo (Kinshasa)",
          "Malaysia",
          "Zambia",
          "Guinea",
          "Gabon",
          "Paraguay",
          "Tajikistan",
          "Haiti",
          "Finland",
          "Lebanon",
          "Luxembourg",
          "Albania",
          "Mauritania",
          "Libya",
          "Greece",
          "Croatia",
          "Maldives",
          "Djibouti",
          "Zimbabwe",
          "Equatorial Guinea",
          "Hungary",
          "Malawi",
          "Central African Republic",
          "Nicaragua",
          "Montenegro",
          "Congo (Brazzaville)",
          "Eswatini",
          "Namibia",
          "Thailand",
          "Somalia",
          "Cuba",
          "Cabo Verde",
          "Sri Lanka",
          "Slovakia",
          "Suriname",
          "Mali",
          "Mozambique",
          "South Sudan",
          "Lithuania",
          "Slovenia",
          "Rwanda",
          "Estonia",
          "Guinea-Bissau",
          "Benin",
          "Iceland",
          "Sierra Leone",
          "Yemen",
          "Tunisia",
          "Angola",
          "New Zealand",
          "Gambia",
          "Uruguay",
          "Uganda",
          "Syria",
          "Latvia",
          "Jordan",
          "Cyprus",
          "Georgia",
          "Liberia",
          "Burkina Faso",
          "Malta",
          "Niger",
          "Togo",
          "Botswana",
          "Jamaica",
          "Bahamas",
          "Andorra",
          "Chad",
          "Vietnam",
          "Sao Tome and Principe",
          "Lesotho",
          "Diamond Princess",
          "San Marino",
          "Guyana",
          "Tanzania",
          "Taiwan*",
          "Burundi",
          "Comoros",
          "Burma",
          "Mauritius",
          "Trinidad and Tobago",
          "Mongolia",
          "Papua New Guinea",
          "Eritrea",
          "Cambodia",
          "Belize",
          "Barbados",
          "Brunei",
          "Monaco",
          "Seychelles",
          "Bhutan",
          "Antigua and Barbuda",
          "Liechtenstein",
          "Saint Vincent and the Grenadines",
          "Fiji",
          "Saint Lucia",
          "Timor-Leste",
          "Grenada",
          "Laos",
          "Dominica",
          "Saint Kitts and Nevis",
          "Holy See",
          "Western Sahara",
          "MS Zaandam"
         ],
         "legendgroup": "",
         "locationmode": "country names",
         "locations": [
          "US",
          "Brazil",
          "India",
          "Russia",
          "South Africa",
          "Mexico",
          "Peru",
          "Colombia",
          "Chile",
          "Iran",
          "Spain",
          "United Kingdom",
          "Saudi Arabia",
          "Pakistan",
          "Argentina",
          "Bangladesh",
          "Italy",
          "Turkey",
          "France",
          "Germany",
          "Iraq",
          "Philippines",
          "Indonesia",
          "Canada",
          "Qatar",
          "Kazakhstan",
          "Ecuador",
          "Egypt",
          "Bolivia",
          "China",
          "Israel",
          "Ukraine",
          "Sweden",
          "Oman",
          "Dominican Republic",
          "Panama",
          "Belgium",
          "Kuwait",
          "Belarus",
          "Romania",
          "United Arab Emirates",
          "Netherlands",
          "Guatemala",
          "Singapore",
          "Poland",
          "Portugal",
          "Japan",
          "Honduras",
          "Nigeria",
          "Bahrain",
          "Ghana",
          "Armenia",
          "Kyrgyzstan",
          "Afghanistan",
          "Switzerland",
          "Algeria",
          "Morocco",
          "Azerbaijan",
          "Uzbekistan",
          "Venezuela",
          "Serbia",
          "Moldova",
          "Kenya",
          "Ireland",
          "Ethiopia",
          "Costa Rica",
          "Nepal",
          "Austria",
          "Australia",
          "El Salvador",
          "Czechia",
          "Cameroon",
          "Cote d'Ivoire",
          "Denmark",
          "West Bank and Gaza",
          "Bosnia and Herzegovina",
          "Korea, South",
          "Bulgaria",
          "Madagascar",
          "North Macedonia",
          "Sudan",
          "Senegal",
          "Kosovo",
          "Norway",
          "Congo (Kinshasa)",
          "Malaysia",
          "Zambia",
          "Guinea",
          "Gabon",
          "Paraguay",
          "Tajikistan",
          "Haiti",
          "Finland",
          "Lebanon",
          "Luxembourg",
          "Albania",
          "Mauritania",
          "Libya",
          "Greece",
          "Croatia",
          "Maldives",
          "Djibouti",
          "Zimbabwe",
          "Equatorial Guinea",
          "Hungary",
          "Malawi",
          "Central African Republic",
          "Nicaragua",
          "Montenegro",
          "Congo (Brazzaville)",
          "Eswatini",
          "Namibia",
          "Thailand",
          "Somalia",
          "Cuba",
          "Cabo Verde",
          "Sri Lanka",
          "Slovakia",
          "Suriname",
          "Mali",
          "Mozambique",
          "South Sudan",
          "Lithuania",
          "Slovenia",
          "Rwanda",
          "Estonia",
          "Guinea-Bissau",
          "Benin",
          "Iceland",
          "Sierra Leone",
          "Yemen",
          "Tunisia",
          "Angola",
          "New Zealand",
          "Gambia",
          "Uruguay",
          "Uganda",
          "Syria",
          "Latvia",
          "Jordan",
          "Cyprus",
          "Georgia",
          "Liberia",
          "Burkina Faso",
          "Malta",
          "Niger",
          "Togo",
          "Botswana",
          "Jamaica",
          "Bahamas",
          "Andorra",
          "Chad",
          "Vietnam",
          "Sao Tome and Principe",
          "Lesotho",
          "Diamond Princess",
          "San Marino",
          "Guyana",
          "Tanzania",
          "Taiwan*",
          "Burundi",
          "Comoros",
          "Burma",
          "Mauritius",
          "Trinidad and Tobago",
          "Mongolia",
          "Papua New Guinea",
          "Eritrea",
          "Cambodia",
          "Belize",
          "Barbados",
          "Brunei",
          "Monaco",
          "Seychelles",
          "Bhutan",
          "Antigua and Barbuda",
          "Liechtenstein",
          "Saint Vincent and the Grenadines",
          "Fiji",
          "Saint Lucia",
          "Timor-Leste",
          "Grenada",
          "Laos",
          "Dominica",
          "Saint Kitts and Nevis",
          "Holy See",
          "Western Sahara",
          "MS Zaandam"
         ],
         "marker": {
          "color": [
           5197118,
           3164785,
           2396637,
           900745,
           568919,
           498380,
           489680,
           422519,
           378168,
           333699,
           329784,
           315581,
           293037,
           285921,
           268574,
           266498,
           251713,
           244392,
           244088,
           220859,
           160436,
           143749,
           130718,
           122703,
           113938,
           101372,
           97110,
           95963,
           95071,
           89045,
           88151,
           86504,
           83455,
           82299,
           82224,
           77377,
           75647,
           73785,
           69102,
           65177,
           63212,
           61718,
           59089,
           55395,
           53676,
           53223,
           51288,
           48657,
           47743,
           45264,
           41572,
           40794,
           40759,
           37345,
           37169,
           36699,
           36694,
           33824,
           32654,
           29088,
           28751,
           28697,
           28104,
           26838,
           25118,
           25057,
           24432,
           22439,
           22358,
           21644,
           19075,
           18263,
           16847,
           15423,
           15184,
           14961,
           14770,
           13893,
           13397,
           12217,
           12033,
           11587,
           10419,
           9783,
           9538,
           9114,
           8501,
           8116,
           8077,
           8018,
           7912,
           7743,
           7642,
           7413,
           7300,
           6817,
           6622,
           6611,
           6177,
           5870,
           5366,
           5358,
           4893,
           4821,
           4768,
           4752,
           4652,
           4115,
           3813,
           3745,
           3525,
           3406,
           3356,
           3227,
           3128,
           3000,
           2881,
           2690,
           2653,
           2582,
           2559,
           2477,
           2309,
           2303,
           2189,
           2174,
           2088,
           2014,
           1972,
           1937,
           1841,
           1780,
           1762,
           1589,
           1477,
           1393,
           1332,
           1327,
           1303,
           1303,
           1291,
           1278,
           1252,
           1213,
           1190,
           1161,
           1092,
           1066,
           1065,
           1036,
           977,
           949,
           883,
           882,
           798,
           712,
           699,
           623,
           509,
           481,
           409,
           399,
           361,
           344,
           326,
           297,
           287,
           285,
           272,
           210,
           144,
           142,
           141,
           127,
           113,
           92,
           90,
           57,
           27,
           25,
           25,
           24,
           20,
           18,
           17,
           12,
           10,
           9
          ],
          "coloraxis": "coloraxis",
          "symbol": "circle"
         },
         "mode": "markers",
         "name": "",
         "showlegend": false,
         "type": "scattergeo"
        }
       ],
       "layout": {
        "coloraxis": {
         "colorbar": {
          "title": {
           "text": "Confirmed"
          }
         },
         "colorscale": [
          [
           0,
           "#0d0887"
          ],
          [
           0.1111111111111111,
           "#46039f"
          ],
          [
           0.2222222222222222,
           "#7201a8"
          ],
          [
           0.3333333333333333,
           "#9c179e"
          ],
          [
           0.4444444444444444,
           "#bd3786"
          ],
          [
           0.5555555555555556,
           "#d8576b"
          ],
          [
           0.6666666666666666,
           "#ed7953"
          ],
          [
           0.7777777777777778,
           "#fb9f3a"
          ],
          [
           0.8888888888888888,
           "#fdca26"
          ],
          [
           1,
           "#f0f921"
          ]
         ]
        },
        "geo": {
         "center": {},
         "domain": {
          "x": [
           0,
           1
          ],
          "y": [
           0,
           1
          ]
         }
        },
        "legend": {
         "tracegroupgap": 0
        },
        "margin": {
         "t": 60
        },
        "template": {
         "data": {
          "bar": [
           {
            "error_x": {
             "color": "#2a3f5f"
            },
            "error_y": {
             "color": "#2a3f5f"
            },
            "marker": {
             "line": {
              "color": "#E5ECF6",
              "width": 0.5
             },
             "pattern": {
              "fillmode": "overlay",
              "size": 10,
              "solidity": 0.2
             }
            },
            "type": "bar"
           }
          ],
          "barpolar": [
           {
            "marker": {
             "line": {
              "color": "#E5ECF6",
              "width": 0.5
             },
             "pattern": {
              "fillmode": "overlay",
              "size": 10,
              "solidity": 0.2
             }
            },
            "type": "barpolar"
           }
          ],
          "carpet": [
           {
            "aaxis": {
             "endlinecolor": "#2a3f5f",
             "gridcolor": "white",
             "linecolor": "white",
             "minorgridcolor": "white",
             "startlinecolor": "#2a3f5f"
            },
            "baxis": {
             "endlinecolor": "#2a3f5f",
             "gridcolor": "white",
             "linecolor": "white",
             "minorgridcolor": "white",
             "startlinecolor": "#2a3f5f"
            },
            "type": "carpet"
           }
          ],
          "choropleth": [
           {
            "colorbar": {
             "outlinewidth": 0,
             "ticks": ""
            },
            "type": "choropleth"
           }
          ],
          "contour": [
           {
            "colorbar": {
             "outlinewidth": 0,
             "ticks": ""
            },
            "colorscale": [
             [
              0,
              "#0d0887"
             ],
             [
              0.1111111111111111,
              "#46039f"
             ],
             [
              0.2222222222222222,
              "#7201a8"
             ],
             [
              0.3333333333333333,
              "#9c179e"
             ],
             [
              0.4444444444444444,
              "#bd3786"
             ],
             [
              0.5555555555555556,
              "#d8576b"
             ],
             [
              0.6666666666666666,
              "#ed7953"
             ],
             [
              0.7777777777777778,
              "#fb9f3a"
             ],
             [
              0.8888888888888888,
              "#fdca26"
             ],
             [
              1,
              "#f0f921"
             ]
            ],
            "type": "contour"
           }
          ],
          "contourcarpet": [
           {
            "colorbar": {
             "outlinewidth": 0,
             "ticks": ""
            },
            "type": "contourcarpet"
           }
          ],
          "heatmap": [
           {
            "colorbar": {
             "outlinewidth": 0,
             "ticks": ""
            },
            "colorscale": [
             [
              0,
              "#0d0887"
             ],
             [
              0.1111111111111111,
              "#46039f"
             ],
             [
              0.2222222222222222,
              "#7201a8"
             ],
             [
              0.3333333333333333,
              "#9c179e"
             ],
             [
              0.4444444444444444,
              "#bd3786"
             ],
             [
              0.5555555555555556,
              "#d8576b"
             ],
             [
              0.6666666666666666,
              "#ed7953"
             ],
             [
              0.7777777777777778,
              "#fb9f3a"
             ],
             [
              0.8888888888888888,
              "#fdca26"
             ],
             [
              1,
              "#f0f921"
             ]
            ],
            "type": "heatmap"
           }
          ],
          "heatmapgl": [
           {
            "colorbar": {
             "outlinewidth": 0,
             "ticks": ""
            },
            "colorscale": [
             [
              0,
              "#0d0887"
             ],
             [
              0.1111111111111111,
              "#46039f"
             ],
             [
              0.2222222222222222,
              "#7201a8"
             ],
             [
              0.3333333333333333,
              "#9c179e"
             ],
             [
              0.4444444444444444,
              "#bd3786"
             ],
             [
              0.5555555555555556,
              "#d8576b"
             ],
             [
              0.6666666666666666,
              "#ed7953"
             ],
             [
              0.7777777777777778,
              "#fb9f3a"
             ],
             [
              0.8888888888888888,
              "#fdca26"
             ],
             [
              1,
              "#f0f921"
             ]
            ],
            "type": "heatmapgl"
           }
          ],
          "histogram": [
           {
            "marker": {
             "pattern": {
              "fillmode": "overlay",
              "size": 10,
              "solidity": 0.2
             }
            },
            "type": "histogram"
           }
          ],
          "histogram2d": [
           {
            "colorbar": {
             "outlinewidth": 0,
             "ticks": ""
            },
            "colorscale": [
             [
              0,
              "#0d0887"
             ],
             [
              0.1111111111111111,
              "#46039f"
             ],
             [
              0.2222222222222222,
              "#7201a8"
             ],
             [
              0.3333333333333333,
              "#9c179e"
             ],
             [
              0.4444444444444444,
              "#bd3786"
             ],
             [
              0.5555555555555556,
              "#d8576b"
             ],
             [
              0.6666666666666666,
              "#ed7953"
             ],
             [
              0.7777777777777778,
              "#fb9f3a"
             ],
             [
              0.8888888888888888,
              "#fdca26"
             ],
             [
              1,
              "#f0f921"
             ]
            ],
            "type": "histogram2d"
           }
          ],
          "histogram2dcontour": [
           {
            "colorbar": {
             "outlinewidth": 0,
             "ticks": ""
            },
            "colorscale": [
             [
              0,
              "#0d0887"
             ],
             [
              0.1111111111111111,
              "#46039f"
             ],
             [
              0.2222222222222222,
              "#7201a8"
             ],
             [
              0.3333333333333333,
              "#9c179e"
             ],
             [
              0.4444444444444444,
              "#bd3786"
             ],
             [
              0.5555555555555556,
              "#d8576b"
             ],
             [
              0.6666666666666666,
              "#ed7953"
             ],
             [
              0.7777777777777778,
              "#fb9f3a"
             ],
             [
              0.8888888888888888,
              "#fdca26"
             ],
             [
              1,
              "#f0f921"
             ]
            ],
            "type": "histogram2dcontour"
           }
          ],
          "mesh3d": [
           {
            "colorbar": {
             "outlinewidth": 0,
             "ticks": ""
            },
            "type": "mesh3d"
           }
          ],
          "parcoords": [
           {
            "line": {
             "colorbar": {
              "outlinewidth": 0,
              "ticks": ""
             }
            },
            "type": "parcoords"
           }
          ],
          "pie": [
           {
            "automargin": true,
            "type": "pie"
           }
          ],
          "scatter": [
           {
            "fillpattern": {
             "fillmode": "overlay",
             "size": 10,
             "solidity": 0.2
            },
            "type": "scatter"
           }
          ],
          "scatter3d": [
           {
            "line": {
             "colorbar": {
              "outlinewidth": 0,
              "ticks": ""
             }
            },
            "marker": {
             "colorbar": {
              "outlinewidth": 0,
              "ticks": ""
             }
            },
            "type": "scatter3d"
           }
          ],
          "scattercarpet": [
           {
            "marker": {
             "colorbar": {
              "outlinewidth": 0,
              "ticks": ""
             }
            },
            "type": "scattercarpet"
           }
          ],
          "scattergeo": [
           {
            "marker": {
             "colorbar": {
              "outlinewidth": 0,
              "ticks": ""
             }
            },
            "type": "scattergeo"
           }
          ],
          "scattergl": [
           {
            "marker": {
             "colorbar": {
              "outlinewidth": 0,
              "ticks": ""
             }
            },
            "type": "scattergl"
           }
          ],
          "scattermapbox": [
           {
            "marker": {
             "colorbar": {
              "outlinewidth": 0,
              "ticks": ""
             }
            },
            "type": "scattermapbox"
           }
          ],
          "scatterpolar": [
           {
            "marker": {
             "colorbar": {
              "outlinewidth": 0,
              "ticks": ""
             }
            },
            "type": "scatterpolar"
           }
          ],
          "scatterpolargl": [
           {
            "marker": {
             "colorbar": {
              "outlinewidth": 0,
              "ticks": ""
             }
            },
            "type": "scatterpolargl"
           }
          ],
          "scatterternary": [
           {
            "marker": {
             "colorbar": {
              "outlinewidth": 0,
              "ticks": ""
             }
            },
            "type": "scatterternary"
           }
          ],
          "surface": [
           {
            "colorbar": {
             "outlinewidth": 0,
             "ticks": ""
            },
            "colorscale": [
             [
              0,
              "#0d0887"
             ],
             [
              0.1111111111111111,
              "#46039f"
             ],
             [
              0.2222222222222222,
              "#7201a8"
             ],
             [
              0.3333333333333333,
              "#9c179e"
             ],
             [
              0.4444444444444444,
              "#bd3786"
             ],
             [
              0.5555555555555556,
              "#d8576b"
             ],
             [
              0.6666666666666666,
              "#ed7953"
             ],
             [
              0.7777777777777778,
              "#fb9f3a"
             ],
             [
              0.8888888888888888,
              "#fdca26"
             ],
             [
              1,
              "#f0f921"
             ]
            ],
            "type": "surface"
           }
          ],
          "table": [
           {
            "cells": {
             "fill": {
              "color": "#EBF0F8"
             },
             "line": {
              "color": "white"
             }
            },
            "header": {
             "fill": {
              "color": "#C8D4E3"
             },
             "line": {
              "color": "white"
             }
            },
            "type": "table"
           }
          ]
         },
         "layout": {
          "annotationdefaults": {
           "arrowcolor": "#2a3f5f",
           "arrowhead": 0,
           "arrowwidth": 1
          },
          "autotypenumbers": "strict",
          "coloraxis": {
           "colorbar": {
            "outlinewidth": 0,
            "ticks": ""
           }
          },
          "colorscale": {
           "diverging": [
            [
             0,
             "#8e0152"
            ],
            [
             0.1,
             "#c51b7d"
            ],
            [
             0.2,
             "#de77ae"
            ],
            [
             0.3,
             "#f1b6da"
            ],
            [
             0.4,
             "#fde0ef"
            ],
            [
             0.5,
             "#f7f7f7"
            ],
            [
             0.6,
             "#e6f5d0"
            ],
            [
             0.7,
             "#b8e186"
            ],
            [
             0.8,
             "#7fbc41"
            ],
            [
             0.9,
             "#4d9221"
            ],
            [
             1,
             "#276419"
            ]
           ],
           "sequential": [
            [
             0,
             "#0d0887"
            ],
            [
             0.1111111111111111,
             "#46039f"
            ],
            [
             0.2222222222222222,
             "#7201a8"
            ],
            [
             0.3333333333333333,
             "#9c179e"
            ],
            [
             0.4444444444444444,
             "#bd3786"
            ],
            [
             0.5555555555555556,
             "#d8576b"
            ],
            [
             0.6666666666666666,
             "#ed7953"
            ],
            [
             0.7777777777777778,
             "#fb9f3a"
            ],
            [
             0.8888888888888888,
             "#fdca26"
            ],
            [
             1,
             "#f0f921"
            ]
           ],
           "sequentialminus": [
            [
             0,
             "#0d0887"
            ],
            [
             0.1111111111111111,
             "#46039f"
            ],
            [
             0.2222222222222222,
             "#7201a8"
            ],
            [
             0.3333333333333333,
             "#9c179e"
            ],
            [
             0.4444444444444444,
             "#bd3786"
            ],
            [
             0.5555555555555556,
             "#d8576b"
            ],
            [
             0.6666666666666666,
             "#ed7953"
            ],
            [
             0.7777777777777778,
             "#fb9f3a"
            ],
            [
             0.8888888888888888,
             "#fdca26"
            ],
            [
             1,
             "#f0f921"
            ]
           ]
          },
          "colorway": [
           "#636efa",
           "#EF553B",
           "#00cc96",
           "#ab63fa",
           "#FFA15A",
           "#19d3f3",
           "#FF6692",
           "#B6E880",
           "#FF97FF",
           "#FECB52"
          ],
          "font": {
           "color": "#2a3f5f"
          },
          "geo": {
           "bgcolor": "white",
           "lakecolor": "white",
           "landcolor": "#E5ECF6",
           "showlakes": true,
           "showland": true,
           "subunitcolor": "white"
          },
          "hoverlabel": {
           "align": "left"
          },
          "hovermode": "closest",
          "mapbox": {
           "style": "light"
          },
          "paper_bgcolor": "white",
          "plot_bgcolor": "#E5ECF6",
          "polar": {
           "angularaxis": {
            "gridcolor": "white",
            "linecolor": "white",
            "ticks": ""
           },
           "bgcolor": "#E5ECF6",
           "radialaxis": {
            "gridcolor": "white",
            "linecolor": "white",
            "ticks": ""
           }
          },
          "scene": {
           "xaxis": {
            "backgroundcolor": "#E5ECF6",
            "gridcolor": "white",
            "gridwidth": 2,
            "linecolor": "white",
            "showbackground": true,
            "ticks": "",
            "zerolinecolor": "white"
           },
           "yaxis": {
            "backgroundcolor": "#E5ECF6",
            "gridcolor": "white",
            "gridwidth": 2,
            "linecolor": "white",
            "showbackground": true,
            "ticks": "",
            "zerolinecolor": "white"
           },
           "zaxis": {
            "backgroundcolor": "#E5ECF6",
            "gridcolor": "white",
            "gridwidth": 2,
            "linecolor": "white",
            "showbackground": true,
            "ticks": "",
            "zerolinecolor": "white"
           }
          },
          "shapedefaults": {
           "line": {
            "color": "#2a3f5f"
           }
          },
          "ternary": {
           "aaxis": {
            "gridcolor": "white",
            "linecolor": "white",
            "ticks": ""
           },
           "baxis": {
            "gridcolor": "white",
            "linecolor": "white",
            "ticks": ""
           },
           "bgcolor": "#E5ECF6",
           "caxis": {
            "gridcolor": "white",
            "linecolor": "white",
            "ticks": ""
           }
          },
          "title": {
           "x": 0.05
          },
          "xaxis": {
           "automargin": true,
           "gridcolor": "white",
           "linecolor": "white",
           "ticks": "",
           "title": {
            "standoff": 15
           },
           "zerolinecolor": "white",
           "zerolinewidth": 2
          },
          "yaxis": {
           "automargin": true,
           "gridcolor": "white",
           "linecolor": "white",
           "ticks": "",
           "title": {
            "standoff": 15
           },
           "zerolinecolor": "white",
           "zerolinewidth": 2
          }
         }
        }
       }
      },
      "text/html": [
       "<div>                            <div id=\"7cd3455a-85e0-4dcf-b0ee-faf118d229d9\" class=\"plotly-graph-div\" style=\"height:525px; width:100%;\"></div>            <script type=\"text/javascript\">                require([\"plotly\"], function(Plotly) {                    window.PLOTLYENV=window.PLOTLYENV || {};                                    if (document.getElementById(\"7cd3455a-85e0-4dcf-b0ee-faf118d229d9\")) {                    Plotly.newPlot(                        \"7cd3455a-85e0-4dcf-b0ee-faf118d229d9\",                        [{\"geo\":\"geo\",\"hovertemplate\":\"<b>%{hovertext}</b><br><br>Country_Region=%{location}<br>Confirmed=%{marker.color}<extra></extra>\",\"hovertext\":[\"US\",\"Brazil\",\"India\",\"Russia\",\"South Africa\",\"Mexico\",\"Peru\",\"Colombia\",\"Chile\",\"Iran\",\"Spain\",\"United Kingdom\",\"Saudi Arabia\",\"Pakistan\",\"Argentina\",\"Bangladesh\",\"Italy\",\"Turkey\",\"France\",\"Germany\",\"Iraq\",\"Philippines\",\"Indonesia\",\"Canada\",\"Qatar\",\"Kazakhstan\",\"Ecuador\",\"Egypt\",\"Bolivia\",\"China\",\"Israel\",\"Ukraine\",\"Sweden\",\"Oman\",\"Dominican Republic\",\"Panama\",\"Belgium\",\"Kuwait\",\"Belarus\",\"Romania\",\"United Arab Emirates\",\"Netherlands\",\"Guatemala\",\"Singapore\",\"Poland\",\"Portugal\",\"Japan\",\"Honduras\",\"Nigeria\",\"Bahrain\",\"Ghana\",\"Armenia\",\"Kyrgyzstan\",\"Afghanistan\",\"Switzerland\",\"Algeria\",\"Morocco\",\"Azerbaijan\",\"Uzbekistan\",\"Venezuela\",\"Serbia\",\"Moldova\",\"Kenya\",\"Ireland\",\"Ethiopia\",\"Costa Rica\",\"Nepal\",\"Austria\",\"Australia\",\"El Salvador\",\"Czechia\",\"Cameroon\",\"Cote d'Ivoire\",\"Denmark\",\"West Bank and Gaza\",\"Bosnia and Herzegovina\",\"Korea, South\",\"Bulgaria\",\"Madagascar\",\"North Macedonia\",\"Sudan\",\"Senegal\",\"Kosovo\",\"Norway\",\"Congo (Kinshasa)\",\"Malaysia\",\"Zambia\",\"Guinea\",\"Gabon\",\"Paraguay\",\"Tajikistan\",\"Haiti\",\"Finland\",\"Lebanon\",\"Luxembourg\",\"Albania\",\"Mauritania\",\"Libya\",\"Greece\",\"Croatia\",\"Maldives\",\"Djibouti\",\"Zimbabwe\",\"Equatorial Guinea\",\"Hungary\",\"Malawi\",\"Central African Republic\",\"Nicaragua\",\"Montenegro\",\"Congo (Brazzaville)\",\"Eswatini\",\"Namibia\",\"Thailand\",\"Somalia\",\"Cuba\",\"Cabo Verde\",\"Sri Lanka\",\"Slovakia\",\"Suriname\",\"Mali\",\"Mozambique\",\"South Sudan\",\"Lithuania\",\"Slovenia\",\"Rwanda\",\"Estonia\",\"Guinea-Bissau\",\"Benin\",\"Iceland\",\"Sierra Leone\",\"Yemen\",\"Tunisia\",\"Angola\",\"New Zealand\",\"Gambia\",\"Uruguay\",\"Uganda\",\"Syria\",\"Latvia\",\"Jordan\",\"Cyprus\",\"Georgia\",\"Liberia\",\"Burkina Faso\",\"Malta\",\"Niger\",\"Togo\",\"Botswana\",\"Jamaica\",\"Bahamas\",\"Andorra\",\"Chad\",\"Vietnam\",\"Sao Tome and Principe\",\"Lesotho\",\"Diamond Princess\",\"San Marino\",\"Guyana\",\"Tanzania\",\"Taiwan*\",\"Burundi\",\"Comoros\",\"Burma\",\"Mauritius\",\"Trinidad and Tobago\",\"Mongolia\",\"Papua New Guinea\",\"Eritrea\",\"Cambodia\",\"Belize\",\"Barbados\",\"Brunei\",\"Monaco\",\"Seychelles\",\"Bhutan\",\"Antigua and Barbuda\",\"Liechtenstein\",\"Saint Vincent and the Grenadines\",\"Fiji\",\"Saint Lucia\",\"Timor-Leste\",\"Grenada\",\"Laos\",\"Dominica\",\"Saint Kitts and Nevis\",\"Holy See\",\"Western Sahara\",\"MS Zaandam\"],\"legendgroup\":\"\",\"locationmode\":\"country names\",\"locations\":[\"US\",\"Brazil\",\"India\",\"Russia\",\"South Africa\",\"Mexico\",\"Peru\",\"Colombia\",\"Chile\",\"Iran\",\"Spain\",\"United Kingdom\",\"Saudi Arabia\",\"Pakistan\",\"Argentina\",\"Bangladesh\",\"Italy\",\"Turkey\",\"France\",\"Germany\",\"Iraq\",\"Philippines\",\"Indonesia\",\"Canada\",\"Qatar\",\"Kazakhstan\",\"Ecuador\",\"Egypt\",\"Bolivia\",\"China\",\"Israel\",\"Ukraine\",\"Sweden\",\"Oman\",\"Dominican Republic\",\"Panama\",\"Belgium\",\"Kuwait\",\"Belarus\",\"Romania\",\"United Arab Emirates\",\"Netherlands\",\"Guatemala\",\"Singapore\",\"Poland\",\"Portugal\",\"Japan\",\"Honduras\",\"Nigeria\",\"Bahrain\",\"Ghana\",\"Armenia\",\"Kyrgyzstan\",\"Afghanistan\",\"Switzerland\",\"Algeria\",\"Morocco\",\"Azerbaijan\",\"Uzbekistan\",\"Venezuela\",\"Serbia\",\"Moldova\",\"Kenya\",\"Ireland\",\"Ethiopia\",\"Costa Rica\",\"Nepal\",\"Austria\",\"Australia\",\"El Salvador\",\"Czechia\",\"Cameroon\",\"Cote d'Ivoire\",\"Denmark\",\"West Bank and Gaza\",\"Bosnia and Herzegovina\",\"Korea, South\",\"Bulgaria\",\"Madagascar\",\"North Macedonia\",\"Sudan\",\"Senegal\",\"Kosovo\",\"Norway\",\"Congo (Kinshasa)\",\"Malaysia\",\"Zambia\",\"Guinea\",\"Gabon\",\"Paraguay\",\"Tajikistan\",\"Haiti\",\"Finland\",\"Lebanon\",\"Luxembourg\",\"Albania\",\"Mauritania\",\"Libya\",\"Greece\",\"Croatia\",\"Maldives\",\"Djibouti\",\"Zimbabwe\",\"Equatorial Guinea\",\"Hungary\",\"Malawi\",\"Central African Republic\",\"Nicaragua\",\"Montenegro\",\"Congo (Brazzaville)\",\"Eswatini\",\"Namibia\",\"Thailand\",\"Somalia\",\"Cuba\",\"Cabo Verde\",\"Sri Lanka\",\"Slovakia\",\"Suriname\",\"Mali\",\"Mozambique\",\"South Sudan\",\"Lithuania\",\"Slovenia\",\"Rwanda\",\"Estonia\",\"Guinea-Bissau\",\"Benin\",\"Iceland\",\"Sierra Leone\",\"Yemen\",\"Tunisia\",\"Angola\",\"New Zealand\",\"Gambia\",\"Uruguay\",\"Uganda\",\"Syria\",\"Latvia\",\"Jordan\",\"Cyprus\",\"Georgia\",\"Liberia\",\"Burkina Faso\",\"Malta\",\"Niger\",\"Togo\",\"Botswana\",\"Jamaica\",\"Bahamas\",\"Andorra\",\"Chad\",\"Vietnam\",\"Sao Tome and Principe\",\"Lesotho\",\"Diamond Princess\",\"San Marino\",\"Guyana\",\"Tanzania\",\"Taiwan*\",\"Burundi\",\"Comoros\",\"Burma\",\"Mauritius\",\"Trinidad and Tobago\",\"Mongolia\",\"Papua New Guinea\",\"Eritrea\",\"Cambodia\",\"Belize\",\"Barbados\",\"Brunei\",\"Monaco\",\"Seychelles\",\"Bhutan\",\"Antigua and Barbuda\",\"Liechtenstein\",\"Saint Vincent and the Grenadines\",\"Fiji\",\"Saint Lucia\",\"Timor-Leste\",\"Grenada\",\"Laos\",\"Dominica\",\"Saint Kitts and Nevis\",\"Holy See\",\"Western Sahara\",\"MS Zaandam\"],\"marker\":{\"color\":[5197118,3164785,2396637,900745,568919,498380,489680,422519,378168,333699,329784,315581,293037,285921,268574,266498,251713,244392,244088,220859,160436,143749,130718,122703,113938,101372,97110,95963,95071,89045,88151,86504,83455,82299,82224,77377,75647,73785,69102,65177,63212,61718,59089,55395,53676,53223,51288,48657,47743,45264,41572,40794,40759,37345,37169,36699,36694,33824,32654,29088,28751,28697,28104,26838,25118,25057,24432,22439,22358,21644,19075,18263,16847,15423,15184,14961,14770,13893,13397,12217,12033,11587,10419,9783,9538,9114,8501,8116,8077,8018,7912,7743,7642,7413,7300,6817,6622,6611,6177,5870,5366,5358,4893,4821,4768,4752,4652,4115,3813,3745,3525,3406,3356,3227,3128,3000,2881,2690,2653,2582,2559,2477,2309,2303,2189,2174,2088,2014,1972,1937,1841,1780,1762,1589,1477,1393,1332,1327,1303,1303,1291,1278,1252,1213,1190,1161,1092,1066,1065,1036,977,949,883,882,798,712,699,623,509,481,409,399,361,344,326,297,287,285,272,210,144,142,141,127,113,92,90,57,27,25,25,24,20,18,17,12,10,9],\"coloraxis\":\"coloraxis\",\"symbol\":\"circle\"},\"mode\":\"markers\",\"name\":\"\",\"showlegend\":false,\"type\":\"scattergeo\"}],                        {\"template\":{\"data\":{\"histogram2dcontour\":[{\"type\":\"histogram2dcontour\",\"colorbar\":{\"outlinewidth\":0,\"ticks\":\"\"},\"colorscale\":[[0.0,\"#0d0887\"],[0.1111111111111111,\"#46039f\"],[0.2222222222222222,\"#7201a8\"],[0.3333333333333333,\"#9c179e\"],[0.4444444444444444,\"#bd3786\"],[0.5555555555555556,\"#d8576b\"],[0.6666666666666666,\"#ed7953\"],[0.7777777777777778,\"#fb9f3a\"],[0.8888888888888888,\"#fdca26\"],[1.0,\"#f0f921\"]]}],\"choropleth\":[{\"type\":\"choropleth\",\"colorbar\":{\"outlinewidth\":0,\"ticks\":\"\"}}],\"histogram2d\":[{\"type\":\"histogram2d\",\"colorbar\":{\"outlinewidth\":0,\"ticks\":\"\"},\"colorscale\":[[0.0,\"#0d0887\"],[0.1111111111111111,\"#46039f\"],[0.2222222222222222,\"#7201a8\"],[0.3333333333333333,\"#9c179e\"],[0.4444444444444444,\"#bd3786\"],[0.5555555555555556,\"#d8576b\"],[0.6666666666666666,\"#ed7953\"],[0.7777777777777778,\"#fb9f3a\"],[0.8888888888888888,\"#fdca26\"],[1.0,\"#f0f921\"]]}],\"heatmap\":[{\"type\":\"heatmap\",\"colorbar\":{\"outlinewidth\":0,\"ticks\":\"\"},\"colorscale\":[[0.0,\"#0d0887\"],[0.1111111111111111,\"#46039f\"],[0.2222222222222222,\"#7201a8\"],[0.3333333333333333,\"#9c179e\"],[0.4444444444444444,\"#bd3786\"],[0.5555555555555556,\"#d8576b\"],[0.6666666666666666,\"#ed7953\"],[0.7777777777777778,\"#fb9f3a\"],[0.8888888888888888,\"#fdca26\"],[1.0,\"#f0f921\"]]}],\"heatmapgl\":[{\"type\":\"heatmapgl\",\"colorbar\":{\"outlinewidth\":0,\"ticks\":\"\"},\"colorscale\":[[0.0,\"#0d0887\"],[0.1111111111111111,\"#46039f\"],[0.2222222222222222,\"#7201a8\"],[0.3333333333333333,\"#9c179e\"],[0.4444444444444444,\"#bd3786\"],[0.5555555555555556,\"#d8576b\"],[0.6666666666666666,\"#ed7953\"],[0.7777777777777778,\"#fb9f3a\"],[0.8888888888888888,\"#fdca26\"],[1.0,\"#f0f921\"]]}],\"contourcarpet\":[{\"type\":\"contourcarpet\",\"colorbar\":{\"outlinewidth\":0,\"ticks\":\"\"}}],\"contour\":[{\"type\":\"contour\",\"colorbar\":{\"outlinewidth\":0,\"ticks\":\"\"},\"colorscale\":[[0.0,\"#0d0887\"],[0.1111111111111111,\"#46039f\"],[0.2222222222222222,\"#7201a8\"],[0.3333333333333333,\"#9c179e\"],[0.4444444444444444,\"#bd3786\"],[0.5555555555555556,\"#d8576b\"],[0.6666666666666666,\"#ed7953\"],[0.7777777777777778,\"#fb9f3a\"],[0.8888888888888888,\"#fdca26\"],[1.0,\"#f0f921\"]]}],\"surface\":[{\"type\":\"surface\",\"colorbar\":{\"outlinewidth\":0,\"ticks\":\"\"},\"colorscale\":[[0.0,\"#0d0887\"],[0.1111111111111111,\"#46039f\"],[0.2222222222222222,\"#7201a8\"],[0.3333333333333333,\"#9c179e\"],[0.4444444444444444,\"#bd3786\"],[0.5555555555555556,\"#d8576b\"],[0.6666666666666666,\"#ed7953\"],[0.7777777777777778,\"#fb9f3a\"],[0.8888888888888888,\"#fdca26\"],[1.0,\"#f0f921\"]]}],\"mesh3d\":[{\"type\":\"mesh3d\",\"colorbar\":{\"outlinewidth\":0,\"ticks\":\"\"}}],\"scatter\":[{\"fillpattern\":{\"fillmode\":\"overlay\",\"size\":10,\"solidity\":0.2},\"type\":\"scatter\"}],\"parcoords\":[{\"type\":\"parcoords\",\"line\":{\"colorbar\":{\"outlinewidth\":0,\"ticks\":\"\"}}}],\"scatterpolargl\":[{\"type\":\"scatterpolargl\",\"marker\":{\"colorbar\":{\"outlinewidth\":0,\"ticks\":\"\"}}}],\"bar\":[{\"error_x\":{\"color\":\"#2a3f5f\"},\"error_y\":{\"color\":\"#2a3f5f\"},\"marker\":{\"line\":{\"color\":\"#E5ECF6\",\"width\":0.5},\"pattern\":{\"fillmode\":\"overlay\",\"size\":10,\"solidity\":0.2}},\"type\":\"bar\"}],\"scattergeo\":[{\"type\":\"scattergeo\",\"marker\":{\"colorbar\":{\"outlinewidth\":0,\"ticks\":\"\"}}}],\"scatterpolar\":[{\"type\":\"scatterpolar\",\"marker\":{\"colorbar\":{\"outlinewidth\":0,\"ticks\":\"\"}}}],\"histogram\":[{\"marker\":{\"pattern\":{\"fillmode\":\"overlay\",\"size\":10,\"solidity\":0.2}},\"type\":\"histogram\"}],\"scattergl\":[{\"type\":\"scattergl\",\"marker\":{\"colorbar\":{\"outlinewidth\":0,\"ticks\":\"\"}}}],\"scatter3d\":[{\"type\":\"scatter3d\",\"line\":{\"colorbar\":{\"outlinewidth\":0,\"ticks\":\"\"}},\"marker\":{\"colorbar\":{\"outlinewidth\":0,\"ticks\":\"\"}}}],\"scattermapbox\":[{\"type\":\"scattermapbox\",\"marker\":{\"colorbar\":{\"outlinewidth\":0,\"ticks\":\"\"}}}],\"scatterternary\":[{\"type\":\"scatterternary\",\"marker\":{\"colorbar\":{\"outlinewidth\":0,\"ticks\":\"\"}}}],\"scattercarpet\":[{\"type\":\"scattercarpet\",\"marker\":{\"colorbar\":{\"outlinewidth\":0,\"ticks\":\"\"}}}],\"carpet\":[{\"aaxis\":{\"endlinecolor\":\"#2a3f5f\",\"gridcolor\":\"white\",\"linecolor\":\"white\",\"minorgridcolor\":\"white\",\"startlinecolor\":\"#2a3f5f\"},\"baxis\":{\"endlinecolor\":\"#2a3f5f\",\"gridcolor\":\"white\",\"linecolor\":\"white\",\"minorgridcolor\":\"white\",\"startlinecolor\":\"#2a3f5f\"},\"type\":\"carpet\"}],\"table\":[{\"cells\":{\"fill\":{\"color\":\"#EBF0F8\"},\"line\":{\"color\":\"white\"}},\"header\":{\"fill\":{\"color\":\"#C8D4E3\"},\"line\":{\"color\":\"white\"}},\"type\":\"table\"}],\"barpolar\":[{\"marker\":{\"line\":{\"color\":\"#E5ECF6\",\"width\":0.5},\"pattern\":{\"fillmode\":\"overlay\",\"size\":10,\"solidity\":0.2}},\"type\":\"barpolar\"}],\"pie\":[{\"automargin\":true,\"type\":\"pie\"}]},\"layout\":{\"autotypenumbers\":\"strict\",\"colorway\":[\"#636efa\",\"#EF553B\",\"#00cc96\",\"#ab63fa\",\"#FFA15A\",\"#19d3f3\",\"#FF6692\",\"#B6E880\",\"#FF97FF\",\"#FECB52\"],\"font\":{\"color\":\"#2a3f5f\"},\"hovermode\":\"closest\",\"hoverlabel\":{\"align\":\"left\"},\"paper_bgcolor\":\"white\",\"plot_bgcolor\":\"#E5ECF6\",\"polar\":{\"bgcolor\":\"#E5ECF6\",\"angularaxis\":{\"gridcolor\":\"white\",\"linecolor\":\"white\",\"ticks\":\"\"},\"radialaxis\":{\"gridcolor\":\"white\",\"linecolor\":\"white\",\"ticks\":\"\"}},\"ternary\":{\"bgcolor\":\"#E5ECF6\",\"aaxis\":{\"gridcolor\":\"white\",\"linecolor\":\"white\",\"ticks\":\"\"},\"baxis\":{\"gridcolor\":\"white\",\"linecolor\":\"white\",\"ticks\":\"\"},\"caxis\":{\"gridcolor\":\"white\",\"linecolor\":\"white\",\"ticks\":\"\"}},\"coloraxis\":{\"colorbar\":{\"outlinewidth\":0,\"ticks\":\"\"}},\"colorscale\":{\"sequential\":[[0.0,\"#0d0887\"],[0.1111111111111111,\"#46039f\"],[0.2222222222222222,\"#7201a8\"],[0.3333333333333333,\"#9c179e\"],[0.4444444444444444,\"#bd3786\"],[0.5555555555555556,\"#d8576b\"],[0.6666666666666666,\"#ed7953\"],[0.7777777777777778,\"#fb9f3a\"],[0.8888888888888888,\"#fdca26\"],[1.0,\"#f0f921\"]],\"sequentialminus\":[[0.0,\"#0d0887\"],[0.1111111111111111,\"#46039f\"],[0.2222222222222222,\"#7201a8\"],[0.3333333333333333,\"#9c179e\"],[0.4444444444444444,\"#bd3786\"],[0.5555555555555556,\"#d8576b\"],[0.6666666666666666,\"#ed7953\"],[0.7777777777777778,\"#fb9f3a\"],[0.8888888888888888,\"#fdca26\"],[1.0,\"#f0f921\"]],\"diverging\":[[0,\"#8e0152\"],[0.1,\"#c51b7d\"],[0.2,\"#de77ae\"],[0.3,\"#f1b6da\"],[0.4,\"#fde0ef\"],[0.5,\"#f7f7f7\"],[0.6,\"#e6f5d0\"],[0.7,\"#b8e186\"],[0.8,\"#7fbc41\"],[0.9,\"#4d9221\"],[1,\"#276419\"]]},\"xaxis\":{\"gridcolor\":\"white\",\"linecolor\":\"white\",\"ticks\":\"\",\"title\":{\"standoff\":15},\"zerolinecolor\":\"white\",\"automargin\":true,\"zerolinewidth\":2},\"yaxis\":{\"gridcolor\":\"white\",\"linecolor\":\"white\",\"ticks\":\"\",\"title\":{\"standoff\":15},\"zerolinecolor\":\"white\",\"automargin\":true,\"zerolinewidth\":2},\"scene\":{\"xaxis\":{\"backgroundcolor\":\"#E5ECF6\",\"gridcolor\":\"white\",\"linecolor\":\"white\",\"showbackground\":true,\"ticks\":\"\",\"zerolinecolor\":\"white\",\"gridwidth\":2},\"yaxis\":{\"backgroundcolor\":\"#E5ECF6\",\"gridcolor\":\"white\",\"linecolor\":\"white\",\"showbackground\":true,\"ticks\":\"\",\"zerolinecolor\":\"white\",\"gridwidth\":2},\"zaxis\":{\"backgroundcolor\":\"#E5ECF6\",\"gridcolor\":\"white\",\"linecolor\":\"white\",\"showbackground\":true,\"ticks\":\"\",\"zerolinecolor\":\"white\",\"gridwidth\":2}},\"shapedefaults\":{\"line\":{\"color\":\"#2a3f5f\"}},\"annotationdefaults\":{\"arrowcolor\":\"#2a3f5f\",\"arrowhead\":0,\"arrowwidth\":1},\"geo\":{\"bgcolor\":\"white\",\"landcolor\":\"#E5ECF6\",\"subunitcolor\":\"white\",\"showland\":true,\"showlakes\":true,\"lakecolor\":\"white\"},\"title\":{\"x\":0.05},\"mapbox\":{\"style\":\"light\"}}},\"geo\":{\"domain\":{\"x\":[0.0,1.0],\"y\":[0.0,1.0]},\"center\":{}},\"coloraxis\":{\"colorbar\":{\"title\":{\"text\":\"Confirmed\"}},\"colorscale\":[[0.0,\"#0d0887\"],[0.1111111111111111,\"#46039f\"],[0.2222222222222222,\"#7201a8\"],[0.3333333333333333,\"#9c179e\"],[0.4444444444444444,\"#bd3786\"],[0.5555555555555556,\"#d8576b\"],[0.6666666666666666,\"#ed7953\"],[0.7777777777777778,\"#fb9f3a\"],[0.8888888888888888,\"#fdca26\"],[1.0,\"#f0f921\"]]},\"legend\":{\"tracegroupgap\":0},\"margin\":{\"t\":60}},                        {\"responsive\": true}                    ).then(function(){\n",
       "                            \n",
       "var gd = document.getElementById('7cd3455a-85e0-4dcf-b0ee-faf118d229d9');\n",
       "var x = new MutationObserver(function (mutations, observer) {{\n",
       "        var display = window.getComputedStyle(gd).display;\n",
       "        if (!display || display === 'none') {{\n",
       "            console.log([gd, 'removed!']);\n",
       "            Plotly.purge(gd);\n",
       "            observer.disconnect();\n",
       "        }}\n",
       "}});\n",
       "\n",
       "// Listen for the removal of the full notebook cells\n",
       "var notebookContainer = gd.closest('#notebook-container');\n",
       "if (notebookContainer) {{\n",
       "    x.observe(notebookContainer, {childList: true});\n",
       "}}\n",
       "\n",
       "// Listen for the clearing of the current output cell\n",
       "var outputEl = gd.closest('.output');\n",
       "if (outputEl) {{\n",
       "    x.observe(outputEl, {childList: true});\n",
       "}}\n",
       "\n",
       "                        })                };                });            </script>        </div>"
      ]
     },
     "metadata": {},
     "output_type": "display_data"
    }
   ],
   "source": [
    "import plotly.express as px \n",
    "from data import countries_df\n",
    "\n",
    "fig = px.scatter_geo(countries_df,hover_name=\"Country_Region\",color=\"Confirmed\",locations=\"Country_Region\", locationmode=\"country names\")\n",
    "fig.show()"
   ]
  }
 ],
 "metadata": {
  "kernelspec": {
   "display_name": "Python 3 (ipykernel)",
   "language": "python",
   "name": "python3"
  },
  "language_info": {
   "codemirror_mode": {
    "name": "ipython",
    "version": 3
   },
   "file_extension": ".py",
   "mimetype": "text/x-python",
   "name": "python",
   "nbconvert_exporter": "python",
   "pygments_lexer": "ipython3",
   "version": "3.8.10"
  }
 },
 "nbformat": 4,
 "nbformat_minor": 5
}
